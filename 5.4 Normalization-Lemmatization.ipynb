{
  "nbformat": 4,
  "nbformat_minor": 0,
  "metadata": {
    "kernelspec": {
      "display_name": "Python 3",
      "language": "python",
      "name": "python3"
    },
    "language_info": {
      "codemirror_mode": {
        "name": "ipython",
        "version": 3
      },
      "file_extension": ".py",
      "mimetype": "text/x-python",
      "name": "python",
      "nbconvert_exporter": "python",
      "pygments_lexer": "ipython3",
      "version": "3.6.7"
    },
    "colab": {
      "provenance": []
    }
  },
  "cells": [
    {
      "cell_type": "markdown",
      "metadata": {
        "id": "3DuZXt_nkCo5"
      },
      "source": [
        "# Lemmatization in spaCy"
      ]
    },
    {
      "cell_type": "code",
      "metadata": {
        "id": "XE244nhmkCo7"
      },
      "source": [
        "# Defining the string\n",
        "text=\"The sky is clear and the stars are twinkling.\""
      ],
      "execution_count": null,
      "outputs": []
    },
    {
      "cell_type": "code",
      "metadata": {
        "id": "YYEvC2bAkCpF"
      },
      "source": [
        "import spacy"
      ],
      "execution_count": null,
      "outputs": []
    },
    {
      "cell_type": "code",
      "metadata": {
        "id": "xh54WXLCkCpM"
      },
      "source": [
        "# Loading spacy model\n",
        "nlp=spacy.load('en_core_web_sm')"
      ],
      "execution_count": null,
      "outputs": []
    },
    {
      "cell_type": "code",
      "metadata": {
        "id": "6v42AYrMkCpU"
      },
      "source": [
        "# Creating doc object\n",
        "doc=nlp(text)"
      ],
      "execution_count": null,
      "outputs": []
    },
    {
      "cell_type": "code",
      "metadata": {
        "id": "vZjxGGdtkCpc",
        "colab": {
          "base_uri": "https://localhost:8080/"
        },
        "outputId": "a025fb8c-1c1e-48b7-c194-0873a52777a8"
      },
      "source": [
        "# Lemmatizing the text\n",
        "[(token.text,token.lemma_) for token in doc]"
      ],
      "execution_count": null,
      "outputs": [
        {
          "output_type": "execute_result",
          "data": {
            "text/plain": [
              "[('The', 'the'),\n",
              " ('sky', 'sky'),\n",
              " ('is', 'be'),\n",
              " ('clear', 'clear'),\n",
              " ('and', 'and'),\n",
              " ('the', 'the'),\n",
              " ('stars', 'star'),\n",
              " ('are', 'be'),\n",
              " ('twinkling', 'twinkle'),\n",
              " ('.', '.')]"
            ]
          },
          "metadata": {},
          "execution_count": 5
        }
      ]
    },
    {
      "cell_type": "code",
      "metadata": {
        "id": "GKv3PEmKkCpk",
        "colab": {
          "base_uri": "https://localhost:8080/"
        },
        "outputId": "0eaf3a46-a1ea-4c8b-f650-eda02a9375fd"
      },
      "source": [
        "text=\"The moon looks beautiful at night. It's hard to resist its beauty.\"\n",
        "\n",
        "# Creating doc object\n",
        "doc=nlp(text)\n",
        "\n",
        "# Lemmatizing the text\n",
        "[(token.text,token.lemma_) for token in doc]"
      ],
      "execution_count": null,
      "outputs": [
        {
          "output_type": "execute_result",
          "data": {
            "text/plain": [
              "[('The', 'the'),\n",
              " ('moon', 'moon'),\n",
              " ('looks', 'look'),\n",
              " ('beautiful', 'beautiful'),\n",
              " ('at', 'at'),\n",
              " ('night', 'night'),\n",
              " ('.', '.'),\n",
              " ('It', 'it'),\n",
              " (\"'s\", 'be'),\n",
              " ('hard', 'hard'),\n",
              " ('to', 'to'),\n",
              " ('resist', 'resist'),\n",
              " ('its', 'its'),\n",
              " ('beauty', 'beauty'),\n",
              " ('.', '.')]"
            ]
          },
          "metadata": {},
          "execution_count": 6
        }
      ]
    },
    {
      "cell_type": "code",
      "metadata": {
        "id": "yT-SVRVGIS2m"
      },
      "source": [
        "with open('switzerland.txt', 'r') as f:\n",
        "  content = f.read()"
      ],
      "execution_count": null,
      "outputs": []
    },
    {
      "cell_type": "code",
      "source": [
        "content"
      ],
      "metadata": {
        "id": "WOyjX9LG1HGU"
      },
      "execution_count": null,
      "outputs": []
    },
    {
      "cell_type": "code",
      "source": [
        "doc = nlp(content)"
      ],
      "metadata": {
        "id": "jXhDPtyA1ILy"
      },
      "execution_count": null,
      "outputs": []
    },
    {
      "cell_type": "code",
      "source": [
        "[(token.text, token.lemma_) for token in doc]"
      ],
      "metadata": {
        "id": "sAKrh_vt1L3W"
      },
      "execution_count": null,
      "outputs": []
    },
    {
      "cell_type": "code",
      "source": [],
      "metadata": {
        "id": "DmoZL1B01RgS"
      },
      "execution_count": null,
      "outputs": []
    }
  ]
}